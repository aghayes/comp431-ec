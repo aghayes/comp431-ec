{
 "cells": [
  {
   "cell_type": "markdown",
   "metadata": {},
   "source": [
    "# Traceroute and Ping Web latency Analysis"
   ]
  },
  {
   "cell_type": "code",
   "execution_count": 2,
   "metadata": {},
   "outputs": [],
   "source": [
    "import pandas as pd\n",
    "import glob"
   ]
  },
  {
   "cell_type": "markdown",
   "metadata": {},
   "source": [
    "We chose to analyse www.youtube.com, www.appstate.edu, www.ox.au.uk. Respectively that is Youtube, Applilachian State University, and Oxford University. Out favorite site, an American educational institution, and a European educational institution.\n",
    "\n",
    "We ran a ping trial (60 pings) to all the routers on the path to our remote host 2 times during 5 different time periods (and 3 times during the 5th time period). We will use the following encoding to indicate which time period each ping was run in:\n",
    "\n",
    "- 1 -> 7am-9am (07:00-09:00)       \n",
    "     - EARLY MORNING\n",
    "- 2 -> 10am-12pm (07:00-09:00)     \n",
    "     - MID-MORNING\n",
    "- 3 -> 2pm-5pm (14:00-16:00)       \n",
    "     - MID-AFTERNOON\n",
    "- 4 -> 6pm-8pm (18:00-20:00)      \n",
    "    - EVENING\n",
    "- 5 -> 10pm-6am (22:00-06:00)      \n",
    "    - NIGHT"
   ]
  },
  {
   "cell_type": "markdown",
   "metadata": {},
   "source": [
    "# Appalachian State University"
   ]
  },
  {
   "cell_type": "code",
   "execution_count": 6,
   "metadata": {},
   "outputs": [],
   "source": [
    "app_5_1 = pd.read_csv(\"appstate.edu_2021-03-16 00_01_25.567445_5.csv\")\n",
    "app_5_2 = pd.read_csv(\"appstate.edu_2021-03-16 00_02_25.388229_5.csv\")\n",
    "app_5_3 = pd.read_csv(\"appstate.edu_2021-03-16 00_16_25.270261_5.csv\")\n",
    "\n",
    "app_1_1 = pd.read_csv(\"appstate.edu_2021-03-16 08_01_25.621040_1.csv\")\n",
    "app_1_2 = pd.read_csv(\"appstate.edu_2021-03-16 08_16_26.505912_1.csv\")\n",
    "\n",
    "app_2_1 = pd.read_csv(\"appstate.edu_2021-03-16 11_01_26.157642_2.csv\")\n",
    "app_2_2 = pd.read_csv(\"appstate.edu_2021-03-16 11_16_25.132895_2.csv\")\n",
    "\n",
    "app_3_1 = pd.read_csv(\"appstate.edu_2021-03-16 14_31_25.888365_3.csv\")\n",
    "app_3_2 = pd.read_csv(\"appstate.edu_2021-03-16 14_46_25.966599_3.csv\")\n",
    "\n",
    "app_4_1 = pd.read_csv(\"appstate.edu_2021-03-16 19_01_26.019037_4.csv\")\n",
    "app_4_2 = pd.read_csv(\"appstate.edu_2021-03-16 19_16_25.406769_4.csv\")"
   ]
  },
  {
   "cell_type": "code",
   "execution_count": 7,
   "metadata": {},
   "outputs": [
    {
     "data": {
      "text/html": [
       "<div>\n",
       "<style scoped>\n",
       "    .dataframe tbody tr th:only-of-type {\n",
       "        vertical-align: middle;\n",
       "    }\n",
       "\n",
       "    .dataframe tbody tr th {\n",
       "        vertical-align: top;\n",
       "    }\n",
       "\n",
       "    .dataframe thead th {\n",
       "        text-align: right;\n",
       "    }\n",
       "</style>\n",
       "<table border=\"1\" class=\"dataframe\">\n",
       "  <thead>\n",
       "    <tr style=\"text-align: right;\">\n",
       "      <th></th>\n",
       "      <th>ip</th>\n",
       "      <th>received</th>\n",
       "      <th>min</th>\n",
       "      <th>avg</th>\n",
       "      <th>max</th>\n",
       "      <th>mdev</th>\n",
       "    </tr>\n",
       "  </thead>\n",
       "  <tbody>\n",
       "    <tr>\n",
       "      <th>0</th>\n",
       "      <td>152.19.160.1</td>\n",
       "      <td>60</td>\n",
       "      <td>0.670</td>\n",
       "      <td>0.831</td>\n",
       "      <td>1.012</td>\n",
       "      <td>0.064</td>\n",
       "    </tr>\n",
       "    <tr>\n",
       "      <th>1</th>\n",
       "      <td>152.19.253.53</td>\n",
       "      <td>60</td>\n",
       "      <td>0.773</td>\n",
       "      <td>3.344</td>\n",
       "      <td>64.420</td>\n",
       "      <td>9.165</td>\n",
       "    </tr>\n",
       "    <tr>\n",
       "      <th>2</th>\n",
       "      <td>152.19.253.89</td>\n",
       "      <td>60</td>\n",
       "      <td>1.252</td>\n",
       "      <td>2.418</td>\n",
       "      <td>27.996</td>\n",
       "      <td>4.514</td>\n",
       "    </tr>\n",
       "    <tr>\n",
       "      <th>3</th>\n",
       "      <td>152.2.255.65</td>\n",
       "      <td>60</td>\n",
       "      <td>1.346</td>\n",
       "      <td>1.589</td>\n",
       "      <td>1.977</td>\n",
       "      <td>0.136</td>\n",
       "    </tr>\n",
       "    <tr>\n",
       "      <th>4</th>\n",
       "      <td>128.109.1.89</td>\n",
       "      <td>60</td>\n",
       "      <td>4.768</td>\n",
       "      <td>5.166</td>\n",
       "      <td>5.692</td>\n",
       "      <td>0.196</td>\n",
       "    </tr>\n",
       "    <tr>\n",
       "      <th>5</th>\n",
       "      <td>128.109.5.2</td>\n",
       "      <td>60</td>\n",
       "      <td>8.459</td>\n",
       "      <td>15.620</td>\n",
       "      <td>281.757</td>\n",
       "      <td>35.928</td>\n",
       "    </tr>\n",
       "    <tr>\n",
       "      <th>6</th>\n",
       "      <td>152.10.0.71</td>\n",
       "      <td>60</td>\n",
       "      <td>8.615</td>\n",
       "      <td>8.772</td>\n",
       "      <td>9.356</td>\n",
       "      <td>0.109</td>\n",
       "    </tr>\n",
       "  </tbody>\n",
       "</table>\n",
       "</div>"
      ],
      "text/plain": [
       "              ip  received    min     avg      max    mdev\n",
       "0   152.19.160.1        60  0.670   0.831    1.012   0.064\n",
       "1  152.19.253.53        60  0.773   3.344   64.420   9.165\n",
       "2  152.19.253.89        60  1.252   2.418   27.996   4.514\n",
       "3   152.2.255.65        60  1.346   1.589    1.977   0.136\n",
       "4   128.109.1.89        60  4.768   5.166    5.692   0.196\n",
       "5    128.109.5.2        60  8.459  15.620  281.757  35.928\n",
       "6    152.10.0.71        60  8.615   8.772    9.356   0.109"
      ]
     },
     "execution_count": 7,
     "metadata": {},
     "output_type": "execute_result"
    }
   ],
   "source": [
    "app_5_1"
   ]
  },
  {
   "cell_type": "code",
   "execution_count": null,
   "metadata": {},
   "outputs": [],
   "source": []
  }
 ],
 "metadata": {
  "kernelspec": {
   "display_name": "Python 3",
   "language": "python",
   "name": "python3"
  },
  "language_info": {
   "codemirror_mode": {
    "name": "ipython",
    "version": 3
   },
   "file_extension": ".py",
   "mimetype": "text/x-python",
   "name": "python",
   "nbconvert_exporter": "python",
   "pygments_lexer": "ipython3",
   "version": "3.8.5"
  }
 },
 "nbformat": 4,
 "nbformat_minor": 4
}
